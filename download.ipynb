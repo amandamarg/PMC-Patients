{
 "cells": [
  {
   "cell_type": "code",
   "execution_count": null,
   "id": "35d564fd",
   "metadata": {},
   "outputs": [],
   "source": [
    "!wget -r ftp://ftp.ncbi.nlm.nih.gov/pub/pmc/oa_bulk/"
   ]
  },
  {
   "cell_type": "code",
   "execution_count": null,
   "id": "abf8e762",
   "metadata": {},
   "outputs": [],
   "source": [
    "!wget -r ftp://ftp.ncbi.nlm.nih.gov/pubmed/"
   ]
  },
  {
   "cell_type": "code",
   "execution_count": null,
   "id": "0ee10d25",
   "metadata": {},
   "outputs": [],
   "source": [
    "!wget ftp://ftp.ncbi.nlm.nih.gov/pub/pmc/PMC-ids.csv.gz\n",
    "!gunzip PMC-ids.csv.gz"
   ]
  }
 ],
 "metadata": {
  "kernelspec": {
   "display_name": ".venv",
   "language": "python",
   "name": "python3"
  },
  "language_info": {
   "codemirror_mode": {
    "name": "ipython",
    "version": 3
   },
   "file_extension": ".py",
   "mimetype": "text/x-python",
   "name": "python",
   "nbconvert_exporter": "python",
   "pygments_lexer": "ipython3",
   "version": "3.13.3"
  }
 },
 "nbformat": 4,
 "nbformat_minor": 5
}
